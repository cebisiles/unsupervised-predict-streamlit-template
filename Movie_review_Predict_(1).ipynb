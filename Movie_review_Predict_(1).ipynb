{
  "cells": [
    {
      "cell_type": "markdown",
      "metadata": {
        "id": "view-in-github",
        "colab_type": "text"
      },
      "source": [
        "<a href=\"https://colab.research.google.com/github/cebisiles/unsupervised-predict-streamlit-template/blob/master/Movie_review_Predict_(1).ipynb\" target=\"_parent\"><img src=\"https://colab.research.google.com/assets/colab-badge.svg\" alt=\"Open In Colab\"/></a>"
      ]
    },
    {
      "cell_type": "code",
      "execution_count": null,
      "id": "c4ee808c",
      "metadata": {
        "id": "c4ee808c"
      },
      "outputs": [],
      "source": [
        "# Import our regular old heroes \n",
        "import numpy as np\n",
        "import pandas as pd\n",
        "import scipy as sp # <-- The sister of Numpy, used in our code for numerical efficientcy. \n",
        "import matplotlib.pyplot as plt\n",
        "import seaborn as sns\n",
        "\n",
        "# Entity featurization and similarity computation\n",
        "from sklearn.metrics.pairwise import cosine_similarity\n",
        "from sklearn.feature_extraction.text import TfidfVectorizer\n",
        "\n",
        "# Libraries used during sorting procedures.\n",
        "import operator # <-- Convienient item retrieval during iteration \n",
        "import heapq # <-- Efficient sorting of large lists\n",
        "\n",
        "# Imported for our sanity\n",
        "import warnings\n",
        "warnings.filterwarnings('ignore')"
      ]
    },
    {
      "cell_type": "code",
      "execution_count": null,
      "id": "12f7e8e4",
      "metadata": {
        "id": "12f7e8e4"
      },
      "outputs": [],
      "source": [
        "movie_ratings = pd.read_csv('movies.csv')\n",
        "imdb_data = pd.read_csv('imdb_data.csv')\n",
        "ratings = pd.read_csv('ratings.csv')\n",
        "train = pd.read_csv('train.csv')"
      ]
    },
    {
      "cell_type": "code",
      "execution_count": null,
      "id": "7d95211e",
      "metadata": {
        "id": "7d95211e"
      },
      "outputs": [],
      "source": [
        "movie_ratings = movie_ratings.merge(train, on='movieId')"
      ]
    },
    {
      "cell_type": "code",
      "execution_count": null,
      "id": "ba3d9180",
      "metadata": {
        "id": "ba3d9180"
      },
      "outputs": [],
      "source": [
        "movie_ratings =movie_ratings.drop(['genres','timestamp'],axis=1).dropna(axis=0)"
      ]
    },
    {
      "cell_type": "code",
      "execution_count": null,
      "id": "37a22702",
      "metadata": {
        "id": "37a22702",
        "outputId": "3900c965-9553-4128-8920-94313c6db37a"
      },
      "outputs": [
        {
          "data": {
            "text/html": [
              "<div>\n",
              "<style scoped>\n",
              "    .dataframe tbody tr th:only-of-type {\n",
              "        vertical-align: middle;\n",
              "    }\n",
              "\n",
              "    .dataframe tbody tr th {\n",
              "        vertical-align: top;\n",
              "    }\n",
              "\n",
              "    .dataframe thead th {\n",
              "        text-align: right;\n",
              "    }\n",
              "</style>\n",
              "<table border=\"1\" class=\"dataframe\">\n",
              "  <thead>\n",
              "    <tr style=\"text-align: right;\">\n",
              "      <th></th>\n",
              "      <th>movieId</th>\n",
              "      <th>title</th>\n",
              "      <th>userId</th>\n",
              "      <th>rating</th>\n",
              "    </tr>\n",
              "  </thead>\n",
              "  <tbody>\n",
              "    <tr>\n",
              "      <th>0</th>\n",
              "      <td>1</td>\n",
              "      <td>Toy Story (1995)</td>\n",
              "      <td>158849</td>\n",
              "      <td>5.0</td>\n",
              "    </tr>\n",
              "    <tr>\n",
              "      <th>1</th>\n",
              "      <td>1</td>\n",
              "      <td>Toy Story (1995)</td>\n",
              "      <td>97203</td>\n",
              "      <td>5.0</td>\n",
              "    </tr>\n",
              "    <tr>\n",
              "      <th>2</th>\n",
              "      <td>1</td>\n",
              "      <td>Toy Story (1995)</td>\n",
              "      <td>161871</td>\n",
              "      <td>3.0</td>\n",
              "    </tr>\n",
              "    <tr>\n",
              "      <th>3</th>\n",
              "      <td>1</td>\n",
              "      <td>Toy Story (1995)</td>\n",
              "      <td>45117</td>\n",
              "      <td>4.0</td>\n",
              "    </tr>\n",
              "    <tr>\n",
              "      <th>4</th>\n",
              "      <td>1</td>\n",
              "      <td>Toy Story (1995)</td>\n",
              "      <td>27431</td>\n",
              "      <td>5.0</td>\n",
              "    </tr>\n",
              "  </tbody>\n",
              "</table>\n",
              "</div>"
            ],
            "text/plain": [
              "   movieId             title  userId  rating\n",
              "0        1  Toy Story (1995)  158849     5.0\n",
              "1        1  Toy Story (1995)   97203     5.0\n",
              "2        1  Toy Story (1995)  161871     3.0\n",
              "3        1  Toy Story (1995)   45117     4.0\n",
              "4        1  Toy Story (1995)   27431     5.0"
            ]
          },
          "execution_count": 31,
          "metadata": {},
          "output_type": "execute_result"
        }
      ],
      "source": [
        "movie_ratings.head()"
      ]
    },
    {
      "cell_type": "code",
      "execution_count": null,
      "id": "055a50ee",
      "metadata": {
        "id": "055a50ee",
        "outputId": "9760640d-25c6-4109-86aa-bffe53bcb465"
      },
      "outputs": [
        {
          "name": "stdout",
          "output_type": "stream",
          "text": [
            "Number of ratings in dataset: 10000038\n"
          ]
        }
      ],
      "source": [
        "print (f'Number of ratings in dataset: {movie_ratings.shape[0]}')"
      ]
    },
    {
      "cell_type": "code",
      "execution_count": null,
      "id": "ad9bf965",
      "metadata": {
        "id": "ad9bf965"
      },
      "outputs": [],
      "source": [
        "movie_ratings = movie_ratings.sample(10000)"
      ]
    },
    {
      "cell_type": "code",
      "execution_count": null,
      "id": "1c387f53",
      "metadata": {
        "id": "1c387f53",
        "outputId": "dd126f6e-8b93-4425-fd14-fdaad6b70000"
      },
      "outputs": [
        {
          "data": {
            "text/plain": [
              "(10000, 4)"
            ]
          },
          "execution_count": 38,
          "metadata": {},
          "output_type": "execute_result"
        }
      ],
      "source": [
        "movie_ratings.shape"
      ]
    },
    {
      "cell_type": "code",
      "execution_count": null,
      "id": "656aa5fa",
      "metadata": {
        "id": "656aa5fa",
        "outputId": "d80447dd-e4bf-4d5a-fe5e-ae03d4c1931f"
      },
      "outputs": [
        {
          "data": {
            "text/plain": [
              "(9013, 3685)"
            ]
          },
          "execution_count": 40,
          "metadata": {},
          "output_type": "execute_result"
        }
      ],
      "source": [
        "util_matrix = movie_ratings.pivot_table(index=['userId'],\n",
        "                                       columns=['title'],\n",
        "                                       values='rating')\n",
        "util_matrix.shape"
      ]
    },
    {
      "cell_type": "code",
      "execution_count": null,
      "id": "257aa321",
      "metadata": {
        "id": "257aa321",
        "outputId": "bb335ec2-34b4-4c33-f988-910c0058ac7e"
      },
      "outputs": [
        {
          "data": {
            "image/png": "[encoded data removed]",
            "text/plain": [
              "<Figure size 1080x360 with 2 Axes>"
            ]
          },
          "metadata": {},
          "output_type": "display_data"
        }
      ],
      "source": [
        "# Create a neat version of the utility matrix to assist with plotting movie titles \n",
        "movie_ratings['neat_title'] = movie_ratings['title'].apply(lambda x: x[:20])\n",
        "util_matrix_neat = movie_ratings.pivot_table(index=['userId'],\n",
        "                                            columns=['neat_title'],\n",
        "                                            values='rating')\n",
        "\n",
        "fig, ax = plt.subplots(figsize=(15,5))\n",
        "# We select only the first 100 users for ease of computation and visualisation. \n",
        "# You can play around with this value to see more of the utility matrix. \n",
        "_ = sns.heatmap(util_matrix_neat[:100], annot=False, ax=ax).set_title('GoodMovies Utility Matrix')"
      ]
    },
    {
      "cell_type": "code",
      "execution_count": null,
      "id": "fc2beac1",
      "metadata": {
        "id": "fc2beac1"
      },
      "outputs": [],
      "source": [
        "# Normalize each row (a given user's ratings) of the utility matrix\n",
        "util_matrix_norm = util_matrix.apply(lambda x: (x-np.mean(x))/(np.max(x)-np.min(x)), axis=1)\n",
        "# Fill Nan values with 0's, transpose matrix, and drop users with no ratings\n",
        "util_matrix_norm.fillna(0, inplace=True)\n",
        "util_matrix_norm = util_matrix_norm.T\n",
        "util_matrix_norm = util_matrix_norm.loc[:, (util_matrix_norm != 0).any(axis=0)]\n",
        "# Save the utility matrix in scipy's sparse matrix format\n",
        "util_matrix_sparse = sp.sparse.csr_matrix(util_matrix_norm.values)"
      ]
    },
    {
      "cell_type": "code",
      "execution_count": null,
      "id": "ff7229ca",
      "metadata": {
        "id": "ff7229ca",
        "outputId": "520ca161-c5ae-41d4-b227-c8f635f09c8e"
      },
      "outputs": [
        {
          "data": {
            "text/html": [
              "<div>\n",
              "<style scoped>\n",
              "    .dataframe tbody tr th:only-of-type {\n",
              "        vertical-align: middle;\n",
              "    }\n",
              "\n",
              "    .dataframe tbody tr th {\n",
              "        vertical-align: top;\n",
              "    }\n",
              "\n",
              "    .dataframe thead th {\n",
              "        text-align: right;\n",
              "    }\n",
              "</style>\n",
              "<table border=\"1\" class=\"dataframe\">\n",
              "  <thead>\n",
              "    <tr style=\"text-align: right;\">\n",
              "      <th>userId</th>\n",
              "      <th>279</th>\n",
              "      <th>285</th>\n",
              "      <th>388</th>\n",
              "      <th>768</th>\n",
              "      <th>847</th>\n",
              "      <th>983</th>\n",
              "      <th>1115</th>\n",
              "      <th>1242</th>\n",
              "      <th>1401</th>\n",
              "      <th>1686</th>\n",
              "      <th>...</th>\n",
              "      <th>160858</th>\n",
              "      <th>160948</th>\n",
              "      <th>161478</th>\n",
              "      <th>161560</th>\n",
              "      <th>161799</th>\n",
              "      <th>162047</th>\n",
              "      <th>162145</th>\n",
              "      <th>162358</th>\n",
              "      <th>162516</th>\n",
              "      <th>162521</th>\n",
              "    </tr>\n",
              "    <tr>\n",
              "      <th>userId</th>\n",
              "      <th></th>\n",
              "      <th></th>\n",
              "      <th></th>\n",
              "      <th></th>\n",
              "      <th></th>\n",
              "      <th></th>\n",
              "      <th></th>\n",
              "      <th></th>\n",
              "      <th></th>\n",
              "      <th></th>\n",
              "      <th></th>\n",
              "      <th></th>\n",
              "      <th></th>\n",
              "      <th></th>\n",
              "      <th></th>\n",
              "      <th></th>\n",
              "      <th></th>\n",
              "      <th></th>\n",
              "      <th></th>\n",
              "      <th></th>\n",
              "      <th></th>\n",
              "    </tr>\n",
              "  </thead>\n",
              "  <tbody>\n",
              "    <tr>\n",
              "      <th>279</th>\n",
              "      <td>1.0</td>\n",
              "      <td>0.0</td>\n",
              "      <td>0.0</td>\n",
              "      <td>0.0</td>\n",
              "      <td>0.0</td>\n",
              "      <td>0.0</td>\n",
              "      <td>0.0</td>\n",
              "      <td>0.0</td>\n",
              "      <td>0.0</td>\n",
              "      <td>0.0</td>\n",
              "      <td>...</td>\n",
              "      <td>0.0</td>\n",
              "      <td>0.0</td>\n",
              "      <td>0.0</td>\n",
              "      <td>0.0</td>\n",
              "      <td>0.0</td>\n",
              "      <td>0.0</td>\n",
              "      <td>0.0</td>\n",
              "      <td>0.0</td>\n",
              "      <td>0.0</td>\n",
              "      <td>0.0</td>\n",
              "    </tr>\n",
              "    <tr>\n",
              "      <th>285</th>\n",
              "      <td>0.0</td>\n",
              "      <td>1.0</td>\n",
              "      <td>0.0</td>\n",
              "      <td>0.0</td>\n",
              "      <td>0.0</td>\n",
              "      <td>0.0</td>\n",
              "      <td>0.0</td>\n",
              "      <td>0.0</td>\n",
              "      <td>0.0</td>\n",
              "      <td>0.0</td>\n",
              "      <td>...</td>\n",
              "      <td>0.0</td>\n",
              "      <td>0.0</td>\n",
              "      <td>0.0</td>\n",
              "      <td>0.0</td>\n",
              "      <td>0.0</td>\n",
              "      <td>0.0</td>\n",
              "      <td>0.0</td>\n",
              "      <td>0.0</td>\n",
              "      <td>0.0</td>\n",
              "      <td>0.0</td>\n",
              "    </tr>\n",
              "    <tr>\n",
              "      <th>388</th>\n",
              "      <td>0.0</td>\n",
              "      <td>0.0</td>\n",
              "      <td>1.0</td>\n",
              "      <td>0.0</td>\n",
              "      <td>0.0</td>\n",
              "      <td>0.0</td>\n",
              "      <td>0.0</td>\n",
              "      <td>0.0</td>\n",
              "      <td>0.0</td>\n",
              "      <td>0.0</td>\n",
              "      <td>...</td>\n",
              "      <td>0.0</td>\n",
              "      <td>0.0</td>\n",
              "      <td>0.0</td>\n",
              "      <td>0.0</td>\n",
              "      <td>0.0</td>\n",
              "      <td>0.0</td>\n",
              "      <td>0.0</td>\n",
              "      <td>0.0</td>\n",
              "      <td>0.0</td>\n",
              "      <td>0.0</td>\n",
              "    </tr>\n",
              "    <tr>\n",
              "      <th>768</th>\n",
              "      <td>0.0</td>\n",
              "      <td>0.0</td>\n",
              "      <td>0.0</td>\n",
              "      <td>1.0</td>\n",
              "      <td>0.0</td>\n",
              "      <td>0.0</td>\n",
              "      <td>0.0</td>\n",
              "      <td>0.0</td>\n",
              "      <td>0.0</td>\n",
              "      <td>0.0</td>\n",
              "      <td>...</td>\n",
              "      <td>0.0</td>\n",
              "      <td>0.0</td>\n",
              "      <td>0.0</td>\n",
              "      <td>0.0</td>\n",
              "      <td>0.0</td>\n",
              "      <td>0.0</td>\n",
              "      <td>0.0</td>\n",
              "      <td>0.0</td>\n",
              "      <td>0.0</td>\n",
              "      <td>0.0</td>\n",
              "    </tr>\n",
              "    <tr>\n",
              "      <th>847</th>\n",
              "      <td>0.0</td>\n",
              "      <td>0.0</td>\n",
              "      <td>0.0</td>\n",
              "      <td>0.0</td>\n",
              "      <td>1.0</td>\n",
              "      <td>0.0</td>\n",
              "      <td>0.0</td>\n",
              "      <td>0.0</td>\n",
              "      <td>0.0</td>\n",
              "      <td>0.0</td>\n",
              "      <td>...</td>\n",
              "      <td>0.0</td>\n",
              "      <td>0.0</td>\n",
              "      <td>0.0</td>\n",
              "      <td>0.0</td>\n",
              "      <td>0.0</td>\n",
              "      <td>0.0</td>\n",
              "      <td>0.0</td>\n",
              "      <td>0.0</td>\n",
              "      <td>0.0</td>\n",
              "      <td>0.0</td>\n",
              "    </tr>\n",
              "  </tbody>\n",
              "</table>\n",
              "<p>5 rows × 676 columns</p>\n",
              "</div>"
            ],
            "text/plain": [
              "userId  279     285     388     768     847     983     1115    1242    \\\n",
              "userId                                                                   \n",
              "279        1.0     0.0     0.0     0.0     0.0     0.0     0.0     0.0   \n",
              "285        0.0     1.0     0.0     0.0     0.0     0.0     0.0     0.0   \n",
              "388        0.0     0.0     1.0     0.0     0.0     0.0     0.0     0.0   \n",
              "768        0.0     0.0     0.0     1.0     0.0     0.0     0.0     0.0   \n",
              "847        0.0     0.0     0.0     0.0     1.0     0.0     0.0     0.0   \n",
              "\n",
              "userId  1401    1686    ...  160858  160948  161478  161560  161799  162047  \\\n",
              "userId                  ...                                                   \n",
              "279        0.0     0.0  ...     0.0     0.0     0.0     0.0     0.0     0.0   \n",
              "285        0.0     0.0  ...     0.0     0.0     0.0     0.0     0.0     0.0   \n",
              "388        0.0     0.0  ...     0.0     0.0     0.0     0.0     0.0     0.0   \n",
              "768        0.0     0.0  ...     0.0     0.0     0.0     0.0     0.0     0.0   \n",
              "847        0.0     0.0  ...     0.0     0.0     0.0     0.0     0.0     0.0   \n",
              "\n",
              "userId  162145  162358  162516  162521  \n",
              "userId                                  \n",
              "279        0.0     0.0     0.0     0.0  \n",
              "285        0.0     0.0     0.0     0.0  \n",
              "388        0.0     0.0     0.0     0.0  \n",
              "768        0.0     0.0     0.0     0.0  \n",
              "847        0.0     0.0     0.0     0.0  \n",
              "\n",
              "[5 rows x 676 columns]"
            ]
          },
          "execution_count": 43,
          "metadata": {},
          "output_type": "execute_result"
        }
      ],
      "source": [
        "# Compute the similarity matrix using the cosine similarity metric\n",
        "user_similarity = cosine_similarity(util_matrix_sparse.T)\n",
        "# Save the matrix as a dataframe to allow for easier indexing  \n",
        "user_sim_df = pd.DataFrame(user_similarity,\n",
        "                           index = util_matrix_norm.columns,\n",
        "                           columns = util_matrix_norm.columns)\n",
        "\n",
        "# Review a small portion of the constructed similartiy matrix  \n",
        "user_sim_df[:5]"
      ]
    },
    {
      "cell_type": "code",
      "execution_count": null,
      "id": "2e76cde3",
      "metadata": {
        "id": "2e76cde3"
      },
      "outputs": [],
      "source": [
        "def collab_generate_top_N_recommendations(user, N=10, k=20):\n",
        "    # Cold-start problem - no ratings given by the reference user. \n",
        "    # With no further user data, we solve this by simply recommending\n",
        "    # the top-N most popular books in the item catalog. \n",
        "    if user not in user_sim_df.columns:\n",
        "        return movie_ratings.groupby('title').mean().sort_values(by='rating',\n",
        "                                        ascending=False).index[:N].to_list()\n",
        "\n",
        "    # Gather the k users which are most similar to the reference user \n",
        "    sim_users = user_sim_df.sort_values(by=user, ascending=False).index[1:k+1]\n",
        "    favorite_user_items = [] # <-- List of highest rated items gathered from the k users  \n",
        "    most_common_favorites = {} # <-- Dictionary of highest rated items in common for the k users\n",
        "\n",
        "    for i in sim_users:\n",
        "        # Maximum rating given by the current user to an item \n",
        "        max_score = util_matrix_norm.loc[:, i].max()\n",
        "        # Save the names of items maximally rated by the current user   \n",
        "        favorite_user_items.append(util_matrix_norm[util_matrix_norm.loc[:, i]==max_score].index.tolist())\n",
        "\n",
        "    # Loop over each user's favorite items and tally which ones are \n",
        "    # most popular overall.\n",
        "    for item_collection in range(len(favorite_user_items)):\n",
        "        for item in favorite_user_items[item_collection]:\n",
        "            if item in most_common_favorites:\n",
        "                most_common_favorites[item] += 1\n",
        "            else:\n",
        "                most_common_favorites[item] = 1\n",
        "    # Sort the overall most popular items and return the top-N instances\n",
        "    sorted_list = sorted(most_common_favorites.items(), key=operator.itemgetter(1), reverse=True)[:N]\n",
        "    top_N = [x[0] for x in sorted_list]\n",
        "    return top_N"
      ]
    },
    {
      "cell_type": "code",
      "execution_count": null,
      "id": "7c0ef4c7",
      "metadata": {
        "id": "7c0ef4c7",
        "outputId": "d1921bcf-cd6e-4d29-bfa7-7cfb78ce4c4e"
      },
      "outputs": [
        {
          "data": {
            "text/plain": [
              "['Philadelphia (1993)',\n",
              " 'Eat Drink Man Woman (Yin shi nan nu) (1994)',\n",
              " 'Demolition Man (1993)',\n",
              " 'Speed (1994)',\n",
              " 'Eye, The (Gin gwai) (Jian gui) (2002)',\n",
              " 'Jerry and Tom (1998)',\n",
              " 'Usual Suspects, The (1995)',\n",
              " 'Cat on a Hot Tin Roof (1958)',\n",
              " 'Clockwork Orange, A (1971)',\n",
              " 'Chloe (2009)']"
            ]
          },
          "execution_count": 58,
          "metadata": {},
          "output_type": "execute_result"
        }
      ],
      "source": [
        "# Our recommended list for user 285\n",
        "collab_generate_top_N_recommendations(285)"
      ]
    },
    {
      "cell_type": "code",
      "execution_count": null,
      "id": "4447ca19",
      "metadata": {
        "id": "4447ca19",
        "outputId": "f9d2145f-79f6-4ca8-d1cd-bcce0efd22c9"
      },
      "outputs": [
        {
          "data": {
            "text/html": [
              "<div>\n",
              "<style scoped>\n",
              "    .dataframe tbody tr th:only-of-type {\n",
              "        vertical-align: middle;\n",
              "    }\n",
              "\n",
              "    .dataframe tbody tr th {\n",
              "        vertical-align: top;\n",
              "    }\n",
              "\n",
              "    .dataframe thead th {\n",
              "        text-align: right;\n",
              "    }\n",
              "</style>\n",
              "<table border=\"1\" class=\"dataframe\">\n",
              "  <thead>\n",
              "    <tr style=\"text-align: right;\">\n",
              "      <th></th>\n",
              "      <th>title</th>\n",
              "      <th>rating</th>\n",
              "    </tr>\n",
              "  </thead>\n",
              "  <tbody>\n",
              "    <tr>\n",
              "      <th>3066925</th>\n",
              "      <td>Carrie (1976)</td>\n",
              "      <td>5.0</td>\n",
              "    </tr>\n",
              "    <tr>\n",
              "      <th>3866498</th>\n",
              "      <td>Gremlins (1984)</td>\n",
              "      <td>2.0</td>\n",
              "    </tr>\n",
              "  </tbody>\n",
              "</table>\n",
              "</div>"
            ],
            "text/plain": [
              "                   title  rating\n",
              "3066925    Carrie (1976)     5.0\n",
              "3866498  Gremlins (1984)     2.0"
            ]
          },
          "execution_count": 59,
          "metadata": {},
          "output_type": "execute_result"
        }
      ],
      "source": [
        "# User 285's historical ratings\n",
        "movie_ratings[movie_ratings['userId'] == 285][:][['title','rating']].sort_values(by='rating', ascending=False)[:10]"
      ]
    },
    {
      "cell_type": "code",
      "execution_count": null,
      "id": "2446f40a",
      "metadata": {
        "id": "2446f40a"
      },
      "outputs": [],
      "source": [
        "def collab_generate_rating_estimate(movie_title, user, k=20, threshold=0.0):\n",
        "    # Gather the k users which are most similar to the reference user \n",
        "    sim_users = user_sim_df.sort_values(by=user, ascending=False).index[1:k+1]\n",
        "    # Store the corresponding user's similarity values \n",
        "    user_values = user_sim_df.sort_values(by=user, ascending=False).loc[:,user].tolist()[1:k+1]\n",
        "    rating_list = [] # <-- List of k user's ratings for the reference item\n",
        "    weight_list = [] # <-- List of k user's similarities to the reference user\n",
        "\n",
        "    # Create a weighted sum for each of the k users who have rated the \n",
        "    # reference item (book).\n",
        "    for sim_idx, userId in enumerate(sim_users):\n",
        "        # User's rating of the item\n",
        "        rating = util_matrix.loc[userId, movie_title]\n",
        "        # User's similarity to the reference user \n",
        "        similarity = user_values[sim_idx]\n",
        "        # Skip the user if they have not rated the item, or are too dissimilar to \n",
        "        # the reference user\n",
        "        if (np.isnan(rating)) or (similarity < threshold):\n",
        "            continue\n",
        "        elif not np.isnan(rating):\n",
        "            rating_list.append(rating*similarity)\n",
        "            weight_list.append(similarity)\n",
        "    try:\n",
        "        # Return the weighted sum as the predicted rating for the reference item\n",
        "        predicted_rating = sum(rating_list)/sum(weight_list)\n",
        "    except ZeroDivisionError:\n",
        "        # If no ratings for the reference item can be collected, return the average \n",
        "        # rating given by all users for the item.  \n",
        "        predicted_rating = np.mean(util_matrix[movie_title])\n",
        "    return predicted_rating"
      ]
    },
    {
      "cell_type": "code",
      "execution_count": null,
      "id": "64b1bf4c",
      "metadata": {
        "id": "64b1bf4c",
        "outputId": "bdf9a0a5-0396-4116-8f1d-22ff379b4264"
      },
      "outputs": [
        {
          "name": "stdout",
          "output_type": "stream",
          "text": [
            "Title - Carrie (1976)\n",
            "---\n",
            "Actual rating: \t\t 5.0\n",
            "Predicted rating: \t 4.083333333333333\n"
          ]
        }
      ],
      "source": [
        "title = \"Carrie (1976)\"\n",
        "actual_rating = movie_ratings[(movie_ratings['userId'] == 285) & (movie_ratings['title'] == title)]['rating'].values[0]\n",
        "pred_rating = collab_generate_rating_estimate(movie_title = title, user = 285)\n",
        "print (f\"Title - {title}\")\n",
        "print (\"---\")\n",
        "print (f\"Actual rating: \\t\\t {actual_rating}\")\n",
        "print (f\"Predicted rating: \\t {pred_rating}\")"
      ]
    },
    {
      "cell_type": "code",
      "execution_count": null,
      "id": "901f748e",
      "metadata": {
        "id": "901f748e",
        "outputId": "fd186d30-37e6-4927-9962-bea35ca1dc12"
      },
      "outputs": [
        {
          "name": "stdout",
          "output_type": "stream",
          "text": [
            "Title - Philadelphia (1993)\n",
            "---\n",
            "Actual rating: \t\t ?\n",
            "Predicted rating: \t 5.0\n"
          ]
        }
      ],
      "source": [
        "title = \"Philadelphia (1993)\"\n",
        "pred_rating = collab_generate_rating_estimate(movie_title = title, user = 285)\n",
        "print (f\"Title - {title}\")\n",
        "print (\"---\")\n",
        "print (f\"Actual rating: \\t\\t ?\")\n",
        "print (f\"Predicted rating: \\t {pred_rating}\")"
      ]
    },
    {
      "cell_type": "code",
      "execution_count": null,
      "id": "29468be9",
      "metadata": {
        "id": "29468be9",
        "outputId": "25633ec4-c0dc-46db-b131-834a63423e3d"
      },
      "outputs": [
        {
          "name": "stdout",
          "output_type": "stream",
          "text": [
            "Title - Eat Drink Man Woman (Yin shi nan nu) (1994)\n",
            "---\n",
            "Actual rating: \t\t ?\n",
            "Predicted rating: \t 3.5\n"
          ]
        }
      ],
      "source": [
        "title = \"Eat Drink Man Woman (Yin shi nan nu) (1994)\"\n",
        "pred_rating = collab_generate_rating_estimate(movie_title = title, user = 285)\n",
        "print (f\"Title - {title}\")\n",
        "print (\"---\")\n",
        "print (f\"Actual rating: \\t\\t ?\")\n",
        "print (f\"Predicted rating: \\t {pred_rating}\")"
      ]
    },
    {
      "cell_type": "code",
      "execution_count": null,
      "id": "36c689ae",
      "metadata": {
        "id": "36c689ae"
      },
      "outputs": [],
      "source": [
        "my_submission = pd.DataFrame({'Id': test.Id, 'SalePrice': predicted_prices})\n",
        "# you could use any filename. We choose submission here\n",
        "my_submission.to_csv('submission.csv', index=False)"
      ]
    }
  ],
  "metadata": {
    "kernelspec": {
      "display_name": "Python 3",
      "language": "python",
      "name": "python3"
    },
    "language_info": {
      "codemirror_mode": {
        "name": "ipython",
        "version": 3
      },
      "file_extension": ".py",
      "mimetype": "text/x-python",
      "name": "python",
      "nbconvert_exporter": "python",
      "pygments_lexer": "ipython3",
      "version": "3.8.8"
    },
    "colab": {
      "name": "Movie review Predict (1).ipynb",
      "provenance": [],
      "include_colab_link": true
    }
  },
  "nbformat": 4,
  "nbformat_minor": 5
}