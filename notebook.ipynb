{
  "metadata": {
    "kernelspec": {
      "language": "python",
      "display_name": "Python 3",
      "name": "python3"
    },
    "language_info": {
      "name": "python",
      "version": "3.7.12",
      "mimetype": "text/x-python",
      "codemirror_mode": {
        "name": "ipython",
        "version": 3
      },
      "pygments_lexer": "ipython3",
      "nbconvert_exporter": "python",
      "file_extension": ".py"
    },
    "colab": {
      "name": "notebook.ipynb",
      "provenance": [],
      "include_colab_link": true
    }
  },
  "nbformat_minor": 0,
  "nbformat": 4,
  "cells": [
    {
      "cell_type": "markdown",
      "metadata": {
        "id": "view-in-github",
        "colab_type": "text"
      },
      "source": [
        "<a href=\"https://colab.research.google.com/github/cebisiles/unsupervised-predict-streamlit-template/blob/master/notebook.ipynb\" target=\"_parent\"><img src=\"https://colab.research.google.com/assets/colab-badge.svg\" alt=\"Open In Colab\"/></a>"
      ]
    },
    {
      "cell_type": "code",
      "source": [
        "# This Python 3 environment comes with many helpful analytics libraries installed\n",
        "# It is defined by the kaggle/python Docker image: https://github.com/kaggle/docker-python\n",
        "# For example, here's several helpful packages to load\n",
        "\n",
        "import numpy as np # linear algebra\n",
        "import pandas as pd # data processing, CSV file I/O (e.g. pd.read_csv)\n",
        "\n",
        "# Input data files are available in the read-only \"../input/\" directory\n",
        "# For example, running this (by clicking run or pressing Shift+Enter) will list all files under the input directory\n",
        "\n",
        "import os\n",
        "for dirname, _, filenames in os.walk('/kaggle/input'):\n",
        "    for filename in filenames:\n",
        "        print(os.path.join(dirname, filename))\n",
        "\n",
        "# You can write up to 20GB to the current directory (/kaggle/working/) that gets preserved as output when you create a version using \"Save & Run All\" \n",
        "# You can also write temporary files to /kaggle/temp/, but they won't be saved outside of the current session"
      ],
      "metadata": {
        "_uuid": "8f2839f25d086af736a60e9eeb907d3b93b6e0e5",
        "_cell_guid": "b1076dfc-b9ad-4769-8c92-a6c4dae69d19",
        "execution": {
          "iopub.status.busy": "2022-02-03T15:31:11.179433Z",
          "iopub.execute_input": "2022-02-03T15:31:11.180482Z",
          "iopub.status.idle": "2022-02-03T15:31:11.213009Z",
          "shell.execute_reply.started": "2022-02-03T15:31:11.180348Z",
          "shell.execute_reply": "2022-02-03T15:31:11.212369Z"
        },
        "trusted": true,
        "id": "i2k0vdV4UGWk"
      },
      "execution_count": null,
      "outputs": []
    },
    {
      "cell_type": "markdown",
      "source": [
        "Importing Libraries"
      ],
      "metadata": {
        "id": "LW6IgdQ-UNTk"
      }
    },
    {
      "cell_type": "code",
      "source": [
        "import pandas as pd\n",
        "import numpy as np\n",
        "import os\n",
        "import seaborn as sns\n",
        "import matplotlib.pyplot as plt\n",
        "import pandas as pd\n",
        "from surprise import Reader\n",
        "from surprise import Dataset\n",
        "from surprise.model_selection import cross_validate\n",
        "from surprise import NormalPredictor\n",
        "from surprise import KNNBasic\n",
        "from surprise import KNNWithMeans\n",
        "from surprise import KNNWithZScore\n",
        "from surprise import KNNBaseline\n",
        "from surprise import SVD\n",
        "from surprise import BaselineOnly\n",
        "from surprise import SVDpp\n",
        "from surprise import NMF\n",
        "from surprise import SlopeOne\n",
        "from surprise import CoClustering\n",
        "from surprise.accuracy import rmse\n",
        "from surprise import accuracy\n",
        "from surprise.model_selection import train_test_split"
      ],
      "metadata": {
        "execution": {
          "iopub.status.busy": "2022-02-03T15:31:11.977547Z",
          "iopub.execute_input": "2022-02-03T15:31:11.978500Z",
          "iopub.status.idle": "2022-02-03T15:31:12.936335Z",
          "shell.execute_reply.started": "2022-02-03T15:31:11.978435Z",
          "shell.execute_reply": "2022-02-03T15:31:12.935403Z"
        },
        "trusted": true,
        "id": "-c636u02UGWw"
      },
      "execution_count": null,
      "outputs": []
    },
    {
      "cell_type": "markdown",
      "source": [
        "The functions below they load the data and merge it based on the movie ID, simultanously, thus to save time other than indivisually doing it"
      ],
      "metadata": {
        "id": "SF54XhBzUYfk"
      }
    },
    {
      "cell_type": "code",
      "source": [
        "def load(s):\n",
        "    l=[]\n",
        "    for i in s:\n",
        "        l+=[pd.read_csv(\"/kaggle/input/edsa-movie-recommendation-wilderness/\"+i+\".csv\")]\n",
        "    return l"
      ],
      "metadata": {
        "id": "TByTIIo8wIvL"
      },
      "execution_count": null,
      "outputs": []
    },
    {
      "cell_type": "code",
      "source": [
        "def merge_movie_id(s):\n",
        "    p=s[0]\n",
        "    d=s[1:]\n",
        "    for i in d:\n",
        "        p=p.merge(i,how='left',on='movieId')\n",
        "    return p"
      ],
      "metadata": {
        "execution": {
          "iopub.status.busy": "2022-02-03T15:31:12.944242Z",
          "iopub.execute_input": "2022-02-03T15:31:12.944593Z",
          "iopub.status.idle": "2022-02-03T15:31:12.954713Z",
          "shell.execute_reply.started": "2022-02-03T15:31:12.944550Z",
          "shell.execute_reply": "2022-02-03T15:31:12.953977Z"
        },
        "trusted": true,
        "id": "QLjx4rRlUGWz"
      },
      "execution_count": null,
      "outputs": []
    },
    {
      "cell_type": "code",
      "source": [
        "train_df=merge_movie_id(load(['train','movies'])[:4])\n",
        "test_df=merge_movie_id(load(['test','movies'])[:4])"
      ],
      "metadata": {
        "execution": {
          "iopub.status.busy": "2022-02-03T15:31:13.097228Z",
          "iopub.execute_input": "2022-02-03T15:31:13.098135Z",
          "iopub.status.idle": "2022-02-03T15:31:23.507609Z",
          "shell.execute_reply.started": "2022-02-03T15:31:13.098078Z",
          "shell.execute_reply": "2022-02-03T15:31:23.506542Z"
        },
        "trusted": true,
        "id": "ZkVNXpkIUGW1"
      },
      "execution_count": null,
      "outputs": []
    },
    {
      "cell_type": "markdown",
      "source": [
        "Thus from here we will consider the train df "
      ],
      "metadata": {
        "id": "IURCnDkAU_Cr"
      }
    },
    {
      "cell_type": "code",
      "source": [
        "df=train_df"
      ],
      "metadata": {
        "execution": {
          "iopub.status.busy": "2022-02-03T15:31:23.509369Z",
          "iopub.execute_input": "2022-02-03T15:31:23.510068Z",
          "iopub.status.idle": "2022-02-03T15:31:23.514548Z",
          "shell.execute_reply.started": "2022-02-03T15:31:23.510030Z",
          "shell.execute_reply": "2022-02-03T15:31:23.513450Z"
        },
        "trusted": true,
        "id": "-eEauyPDUGW2"
      },
      "execution_count": null,
      "outputs": []
    },
    {
      "cell_type": "markdown",
      "source": [
        "Then we look at the five number summary of the Ratings as well as the standard deviation "
      ],
      "metadata": {
        "id": "YPCW5aI4VHLf"
      }
    },
    {
      "cell_type": "code",
      "source": [
        "df['rating'].describe()"
      ],
      "metadata": {
        "execution": {
          "iopub.status.busy": "2022-02-03T15:31:23.515906Z",
          "iopub.execute_input": "2022-02-03T15:31:23.516136Z",
          "iopub.status.idle": "2022-02-03T15:31:23.962443Z",
          "shell.execute_reply.started": "2022-02-03T15:31:23.516108Z",
          "shell.execute_reply": "2022-02-03T15:31:23.961588Z"
        },
        "trusted": true,
        "id": "p4g9QpGjUGW3"
      },
      "execution_count": null,
      "outputs": []
    },
    {
      "cell_type": "markdown",
      "source": [
        "From this we can see that the minimun rating for the data is 0.5"
      ],
      "metadata": {
        "id": "KB_J-4l1VY9C"
      }
    },
    {
      "cell_type": "markdown",
      "source": [
        "**EDA**"
      ],
      "metadata": {
        "id": "qKFptILJVzbW"
      }
    },
    {
      "cell_type": "markdown",
      "source": [
        "Ratings Distribution"
      ],
      "metadata": {
        "id": "uRmhurITWDca"
      }
    },
    {
      "cell_type": "code",
      "source": [
        ""
      ],
      "metadata": {
        "id": "KnB3TMUjee3k"
      },
      "execution_count": null,
      "outputs": []
    },
    {
      "cell_type": "code",
      "source": [
        "from plotly.offline import init_notebook_mode, plot, iplot\n",
        "import plotly.graph_objs as go\n",
        "init_notebook_mode(connected=True)\n",
        "\n",
        "data = df['rating'].value_counts().sort_index(ascending=False)\n",
        "trace = go.Bar(x = data.index,\n",
        "               text = ['{:.1f} %'.format(val) for val in (data.values / df.shape[0] * 100)],\n",
        "               textposition = 'auto',\n",
        "               textfont = dict(color = '#000000'),\n",
        "               y = data.values,\n",
        "               )\n",
        "# Create layout\n",
        "layout = dict(title = 'Distribution Of {} ratings'.format(df.shape[0]),\n",
        "              xaxis = dict(title = 'Rating'),\n",
        "              yaxis = dict(title = 'Count'))\n",
        "# Create plot\n",
        "fig = go.Figure(data=[trace], layout=layout)\n",
        "iplot(fig)"
      ],
      "metadata": {
        "execution": {
          "iopub.status.busy": "2022-02-03T15:31:24.075462Z",
          "iopub.execute_input": "2022-02-03T15:31:24.075687Z",
          "iopub.status.idle": "2022-02-03T15:31:25.092644Z",
          "shell.execute_reply.started": "2022-02-03T15:31:24.075661Z",
          "shell.execute_reply": "2022-02-03T15:31:25.091692Z"
        },
        "trusted": true,
        "id": "pNyyRXOzUGXB"
      },
      "execution_count": null,
      "outputs": []
    },
    {
      "cell_type": "markdown",
      "source": [
        "We can see that less than 13% of all ratings in the data have a rating of less or equal to 2, and low movies movie mean they are generally really bad."
      ],
      "metadata": {
        "id": "EykL7y1rUGXD"
      }
    },
    {
      "cell_type": "code",
      "source": [
        "# Number of ratings per book\n",
        "data = df.groupby('movieId')['rating'].count().clip(upper=50)\n",
        "\n",
        "# Create trace\n",
        "trace = go.Histogram(x = data.values,\n",
        "                     name = 'Ratings',\n",
        "                     xbins = dict(start = 0,\n",
        "                                  end = 50,\n",
        "                                  size = 2))\n",
        "# Create layout\n",
        "layout = go.Layout(title = 'Distribution Of Number of Ratings Per Movie (Clipped at 50)',\n",
        "                   xaxis = dict(title = 'Number of Ratings Per Movie'),\n",
        "                   yaxis = dict(title = 'Count'),\n",
        "                   bargap = 0.2)\n",
        "\n",
        "# Create plot\n",
        "fig = go.Figure(data=[trace], layout=layout)\n",
        "iplot(fig)"
      ],
      "metadata": {
        "execution": {
          "iopub.status.busy": "2022-02-03T15:31:25.094294Z",
          "iopub.execute_input": "2022-02-03T15:31:25.094524Z",
          "iopub.status.idle": "2022-02-03T15:31:25.558697Z",
          "shell.execute_reply.started": "2022-02-03T15:31:25.094497Z",
          "shell.execute_reply": "2022-02-03T15:31:25.557250Z"
        },
        "trusted": true,
        "id": "9_6D-bJ0UGXE"
      },
      "execution_count": null,
      "outputs": []
    },
    {
      "cell_type": "code",
      "source": [
        "df.groupby('movieId')['rating'].count().reset_index().sort_values('rating', ascending=False)[:10]"
      ],
      "metadata": {
        "execution": {
          "iopub.status.busy": "2022-02-03T15:31:25.560430Z",
          "iopub.execute_input": "2022-02-03T15:31:25.561101Z",
          "iopub.status.idle": "2022-02-03T15:31:25.940028Z",
          "shell.execute_reply.started": "2022-02-03T15:31:25.561053Z",
          "shell.execute_reply": "2022-02-03T15:31:25.939200Z"
        },
        "trusted": true,
        "id": "14ljDBSrUGXF"
      },
      "execution_count": null,
      "outputs": []
    },
    {
      "cell_type": "markdown",
      "source": [
        "Ratings Distribution By User"
      ],
      "metadata": {
        "id": "oyBJpv2XUGXG"
      }
    },
    {
      "cell_type": "code",
      "source": [
        "# Number of ratings per user\n",
        "data = df.groupby('userId')['rating'].count().clip(upper=50)\n",
        "\n",
        "# Create trace\n",
        "trace = go.Histogram(x = data.values,\n",
        "                     name = 'Ratings',\n",
        "                     xbins = dict(start = 0,\n",
        "                                  end = 50,\n",
        "                                  size = 2))\n",
        "# Create layout\n",
        "layout = go.Layout(title = 'Distribution Of Number of Ratings Per User (Clipped at 50)',\n",
        "                   xaxis = dict(title = 'Ratings Per User'),\n",
        "                   yaxis = dict(title = 'Count'),\n",
        "                   bargap = 0.2)\n",
        "\n",
        "# Create plot\n",
        "fig = go.Figure(data=[trace], layout=layout)\n",
        "iplot(fig)"
      ],
      "metadata": {
        "execution": {
          "iopub.status.busy": "2022-02-03T15:31:25.941403Z",
          "iopub.execute_input": "2022-02-03T15:31:25.941701Z",
          "iopub.status.idle": "2022-02-03T15:31:26.498845Z",
          "shell.execute_reply.started": "2022-02-03T15:31:25.941658Z",
          "shell.execute_reply": "2022-02-03T15:31:26.497930Z"
        },
        "trusted": true,
        "id": "aHwHEXa_UGXH"
      },
      "execution_count": null,
      "outputs": []
    },
    {
      "cell_type": "code",
      "source": [
        "df.groupby('userId')['rating'].count().reset_index().sort_values('rating', ascending=False)[:10]\n"
      ],
      "metadata": {
        "execution": {
          "iopub.status.busy": "2022-02-03T15:31:26.500123Z",
          "iopub.execute_input": "2022-02-03T15:31:26.500411Z",
          "iopub.status.idle": "2022-02-03T15:31:26.990828Z",
          "shell.execute_reply.started": "2022-02-03T15:31:26.500377Z",
          "shell.execute_reply": "2022-02-03T15:31:26.989916Z"
        },
        "trusted": true,
        "id": "4I1_FqZJUGXI"
      },
      "execution_count": null,
      "outputs": []
    },
    {
      "cell_type": "code",
      "source": [
        "min_movie_ratings = 2\n",
        "filter_movies = df['rating'].value_counts() > min_movie_ratings\n",
        "filter_movies = filter_movies[filter_movies].index.tolist()\n",
        "\n",
        "min_user_ratings = 50\n",
        "filter_users = df['userId'].value_counts() > min_user_ratings\n",
        "filter_users = filter_users[filter_users].index.tolist()\n",
        "\n",
        "df_new = df[(df['rating'].isin(filter_movies)) & (df['userId'].isin(filter_users))]\n",
        "print('The original data frame shape:\\t{}'.format(df.shape))\n",
        "print('The new data frame shape:\\t{}'.format(df_new.shape))"
      ],
      "metadata": {
        "execution": {
          "iopub.status.busy": "2022-02-03T15:31:26.992932Z",
          "iopub.execute_input": "2022-02-03T15:31:26.993188Z",
          "iopub.status.idle": "2022-02-03T15:31:28.597986Z",
          "shell.execute_reply.started": "2022-02-03T15:31:26.993140Z",
          "shell.execute_reply": "2022-02-03T15:31:28.597223Z"
        },
        "trusted": true,
        "id": "OKWL9uZYUGXJ"
      },
      "execution_count": null,
      "outputs": []
    },
    {
      "cell_type": "markdown",
      "source": [
        "**Modelling with Surprise**"
      ],
      "metadata": {
        "id": "YThRAH9MWhju"
      }
    },
    {
      "cell_type": "markdown",
      "source": [
        "To load a dataset from a pandas dataframe, we will use the load_from_df() method, we will also need a Reader object, and the rating_scale parameter must be specified. The dataframe must have three columns, corresponding to the user ids, the movie ids, and the ratings in this order. Each row thus corresponds to a given rating."
      ],
      "metadata": {
        "id": "E64puOFTUGXK"
      }
    },
    {
      "cell_type": "code",
      "source": [
        "df = df_new.sample(50000)\n",
        "reader = Reader(rating_scale=(0, 5))\n",
        "data = Dataset.load_from_df(df[['userId', 'movieId', 'rating']], reader)"
      ],
      "metadata": {
        "execution": {
          "iopub.status.busy": "2022-02-03T15:41:45.105836Z",
          "iopub.execute_input": "2022-02-03T15:41:45.106612Z",
          "iopub.status.idle": "2022-02-03T15:41:45.613145Z",
          "shell.execute_reply.started": "2022-02-03T15:41:45.106562Z",
          "shell.execute_reply": "2022-02-03T15:41:45.612146Z"
        },
        "trusted": true,
        "id": "TMHSipPpUGXK"
      },
      "execution_count": null,
      "outputs": []
    },
    {
      "cell_type": "markdown",
      "source": [
        "With the Surprise library, we will benchmark the following algorithms\n",
        "\n",
        "# ****Basic algorithms****\n",
        "\n",
        "## **NormalPredictor**\n",
        "\n",
        "NormalPredictor algorithm predicts a random rating based on the distribution of the training set, which is assumed to be normal. This is one of the most basic algorithms that do not do much work.\n",
        "\n",
        "## **BaselineOnly**\n",
        "\n",
        "BasiclineOnly algorithm predicts the baseline estimate for given user and item.\n",
        "# **k-NN algorithms**\n",
        "## **KNNBasic**\n",
        "KNNBasic is a basic collaborative filtering algorithm.\n",
        "## **KNNWithMeans**\n",
        "KNNWithMeans is basic collaborative filtering algorithm, taking into account the mean ratings of each user.\n",
        "## **KNNWithZScore**\n",
        "KNNWithZScore is a basic collaborative filtering algorithm, taking into account the z-score normalization of each user.\n",
        "## **KNNBaseline**\n",
        "KNNBaseline is a basic collaborative filtering algorithm taking into account a baseline rating.\n",
        "\n",
        "# **Matrix Factorization-based algorithms**\n",
        "## **SVD**\n",
        "SVD algorithm is equivalent to Probabilistic Matrix Factorization (http://papers.nips.cc/paper/3208-probabilistic-matrix-factorization.pdf)\n",
        "\n",
        "## **SVDpp**\n",
        "The SVDpp algorithm is an extension of SVD that takes into account implicit ratings.\n",
        "\n",
        "## **NMF**\n",
        "NMF is a collaborative filtering algorithm based on Non-negative Matrix Factorization. It is very similar with SVD.\n",
        "\n",
        "## **Slope One**\n",
        "Slope One is a straightforward implementation of the SlopeOne algorithm. (https://arxiv.org/abs/cs/0702144)\n",
        "\n",
        "## **Co-clustering**\n",
        "Co-clustering is a collaborative filtering algorithm based on co-clustering (http://citeseerx.ist.psu.edu/viewdoc/download?doi=10.1.1.113.6458&rep=rep1&type=pdf)\n",
        "\n",
        "KNNWithMeans(),, NormalPredictor(), KNNBaseline(), KNNBasic(),  KNNWithZScore(),\n",
        "\n",
        "\n",
        "**We use rmse as our accuracy metric for the predictions.**"
      ],
      "metadata": {
        "id": "Wq42DwdaUGXL"
      }
    },
    {
      "cell_type": "code",
      "source": [
        "benchmark = []\n",
        "# Iterate over all algorithms\n",
        "for algorithm in [SVD(), SVDpp(), KNNWithMeans(), SlopeOne(), NMF(), BaselineOnly(), CoClustering()]:\n",
        "    # Perform cross validation\n",
        "    results = cross_validate(algorithm, data, measures=['RMSE'], cv=3, verbose=False)\n",
        "    \n",
        "    # Get results & append algorithm name\n",
        "    tmp = pd.DataFrame.from_dict(results).mean(axis=0)\n",
        "    tmp = tmp.append(pd.Series([str(algorithm).split(' ')[0].split('.')[-1]], index=['Algorithm']))\n",
        "    benchmark.append(tmp)"
      ],
      "metadata": {
        "execution": {
          "iopub.status.busy": "2022-02-03T15:41:47.218300Z",
          "iopub.execute_input": "2022-02-03T15:41:47.218586Z",
          "iopub.status.idle": "2022-02-03T15:43:41.442274Z",
          "shell.execute_reply.started": "2022-02-03T15:41:47.218556Z",
          "shell.execute_reply": "2022-02-03T15:43:41.441296Z"
        },
        "trusted": true,
        "id": "XKwaMrlaUGXN"
      },
      "execution_count": null,
      "outputs": []
    },
    {
      "cell_type": "code",
      "source": [
        "surprise_results = pd.DataFrame(benchmark).set_index('Algorithm').sort_values('test_rmse')"
      ],
      "metadata": {
        "execution": {
          "iopub.status.busy": "2022-02-03T15:43:41.444332Z",
          "iopub.execute_input": "2022-02-03T15:43:41.444865Z",
          "iopub.status.idle": "2022-02-03T15:43:41.454756Z",
          "shell.execute_reply.started": "2022-02-03T15:43:41.444812Z",
          "shell.execute_reply": "2022-02-03T15:43:41.453884Z"
        },
        "trusted": true,
        "id": "XzFsXJ4lUGXN"
      },
      "execution_count": null,
      "outputs": []
    },
    {
      "cell_type": "code",
      "source": [
        "surprise_results"
      ],
      "metadata": {
        "execution": {
          "iopub.status.busy": "2022-02-03T15:43:41.455868Z",
          "iopub.execute_input": "2022-02-03T15:43:41.456133Z",
          "iopub.status.idle": "2022-02-03T15:43:41.479514Z",
          "shell.execute_reply.started": "2022-02-03T15:43:41.456102Z",
          "shell.execute_reply": "2022-02-03T15:43:41.478446Z"
        },
        "trusted": true,
        "id": "ax6HVlmXUGXO"
      },
      "execution_count": null,
      "outputs": []
    },
    {
      "cell_type": "markdown",
      "source": [
        "*SVDpp* algorithm gave us the best rmse, therefore, we will proceed further with *SVDpp* and use **Root Mean Square Error(RMSE)**."
      ],
      "metadata": {
        "id": "MI1GwZOaUGXP"
      }
    },
    {
      "cell_type": "code",
      "source": [
        "print('Using ALS')\n",
        "bsl_options = {'method': 'als',\n",
        "               'n_epochs': 5,\n",
        "               'reg_u': 12,\n",
        "               'reg_i': 5\n",
        "               }\n",
        "algo = SVDpp()\n",
        "cross_validate(algo, data, measures=['RMSE'], cv=3, verbose=False)"
      ],
      "metadata": {
        "execution": {
          "iopub.status.busy": "2022-02-03T15:44:00.277230Z",
          "iopub.execute_input": "2022-02-03T15:44:00.277740Z",
          "iopub.status.idle": "2022-02-03T15:44:14.185469Z",
          "shell.execute_reply.started": "2022-02-03T15:44:00.277698Z",
          "shell.execute_reply": "2022-02-03T15:44:14.184372Z"
        },
        "trusted": true,
        "id": "cqVaVXn6UGXQ"
      },
      "execution_count": null,
      "outputs": []
    },
    {
      "cell_type": "code",
      "source": [
        "trainset, testset = train_test_split(data, test_size=0.25)\n",
        "algo = SVDpp()\n",
        "predictions = algo.fit(trainset).test(testset)\n",
        "accuracy.rmse(predictions)"
      ],
      "metadata": {
        "execution": {
          "iopub.status.busy": "2022-02-03T15:44:14.186904Z",
          "iopub.execute_input": "2022-02-03T15:44:14.187171Z",
          "iopub.status.idle": "2022-02-03T15:44:19.299533Z",
          "shell.execute_reply.started": "2022-02-03T15:44:14.187122Z",
          "shell.execute_reply": "2022-02-03T15:44:19.298462Z"
        },
        "trusted": true,
        "id": "XrD-0kJZUGXR"
      },
      "execution_count": null,
      "outputs": []
    },
    {
      "cell_type": "code",
      "source": [
        "trainset = algo.trainset\n",
        "print(algo.__class__.__name__)"
      ],
      "metadata": {
        "execution": {
          "iopub.status.busy": "2022-02-03T15:44:28.095174Z",
          "iopub.execute_input": "2022-02-03T15:44:28.095506Z",
          "iopub.status.idle": "2022-02-03T15:44:28.101029Z",
          "shell.execute_reply.started": "2022-02-03T15:44:28.095468Z",
          "shell.execute_reply": "2022-02-03T15:44:28.100385Z"
        },
        "trusted": true,
        "id": "UMwkBgVcUGXS"
      },
      "execution_count": null,
      "outputs": []
    },
    {
      "cell_type": "markdown",
      "source": [
        "### To inspect our predictions in details, we are going to build a pandas data frame with all the predictions."
      ],
      "metadata": {
        "id": "-Vcfk3KwUGXS"
      }
    },
    {
      "cell_type": "code",
      "source": [
        "def get_Iu(uid):\n",
        "    \"\"\" return the number of items rated by given user\n",
        "    args: \n",
        "      uid: the id of the user\n",
        "    returns: \n",
        "      the number of items rated by the user\n",
        "    \"\"\"\n",
        "    try:\n",
        "        return len(trainset.ur[trainset.to_inner_uid(uid)])\n",
        "    except ValueError: # user was not part of the trainset\n",
        "        return 0\n",
        "    \n",
        "def get_Ui(iid):\n",
        "    \"\"\" return number of users that have rated given item\n",
        "    args:\n",
        "      iid: the raw id of the item\n",
        "    returns:\n",
        "      the number of users that have rated the item.\n",
        "    \"\"\"\n",
        "    try: \n",
        "        return len(trainset.ir[trainset.to_inner_iid(iid)])\n",
        "    except ValueError:\n",
        "        return 0\n",
        "    \n",
        "df = pd.DataFrame(predictions, columns=['uid', 'iid', 'rui', 'est', 'details'])\n",
        "df['Iu'] = df.uid.apply(get_Iu)\n",
        "df['Ui'] = df.iid.apply(get_Ui)\n",
        "df['err'] = abs(df.est - df.rui)"
      ],
      "metadata": {
        "execution": {
          "iopub.status.busy": "2022-02-03T15:44:37.077308Z",
          "iopub.execute_input": "2022-02-03T15:44:37.077604Z",
          "iopub.status.idle": "2022-02-03T15:44:37.142276Z",
          "shell.execute_reply.started": "2022-02-03T15:44:37.077574Z",
          "shell.execute_reply": "2022-02-03T15:44:37.141260Z"
        },
        "trusted": true,
        "id": "IvPMEYyBUGXT"
      },
      "execution_count": null,
      "outputs": []
    },
    {
      "cell_type": "code",
      "source": [
        "df.head()"
      ],
      "metadata": {
        "execution": {
          "iopub.status.busy": "2022-02-03T15:44:38.894913Z",
          "iopub.execute_input": "2022-02-03T15:44:38.895241Z",
          "iopub.status.idle": "2022-02-03T15:44:38.909746Z",
          "shell.execute_reply.started": "2022-02-03T15:44:38.895204Z",
          "shell.execute_reply": "2022-02-03T15:44:38.908896Z"
        },
        "trusted": true,
        "id": "S2T7sFWlUGXT"
      },
      "execution_count": null,
      "outputs": []
    },
    {
      "cell_type": "code",
      "source": [
        "best_predictions = df.sort_values(by='err')[:10]\n",
        "worst_predictions = df.sort_values(by='err')[-10:]"
      ],
      "metadata": {
        "execution": {
          "iopub.status.busy": "2022-02-03T15:44:45.438055Z",
          "iopub.execute_input": "2022-02-03T15:44:45.438402Z",
          "iopub.status.idle": "2022-02-03T15:44:45.449422Z",
          "shell.execute_reply.started": "2022-02-03T15:44:45.438352Z",
          "shell.execute_reply": "2022-02-03T15:44:45.448597Z"
        },
        "trusted": true,
        "id": "GLCMM_WrUGXU"
      },
      "execution_count": null,
      "outputs": []
    },
    {
      "cell_type": "code",
      "source": [
        "best_predictions"
      ],
      "metadata": {
        "execution": {
          "iopub.status.busy": "2022-02-03T15:44:46.525756Z",
          "iopub.execute_input": "2022-02-03T15:44:46.526096Z",
          "iopub.status.idle": "2022-02-03T15:44:46.543828Z",
          "shell.execute_reply.started": "2022-02-03T15:44:46.526060Z",
          "shell.execute_reply": "2022-02-03T15:44:46.542902Z"
        },
        "trusted": true,
        "id": "ef6asIiRUGXU"
      },
      "execution_count": null,
      "outputs": []
    },
    {
      "cell_type": "code",
      "source": [
        "worst_predictions"
      ],
      "metadata": {
        "execution": {
          "iopub.status.busy": "2022-02-03T15:45:16.253326Z",
          "iopub.execute_input": "2022-02-03T15:45:16.253681Z",
          "iopub.status.idle": "2022-02-03T15:45:16.272952Z",
          "shell.execute_reply.started": "2022-02-03T15:45:16.253642Z",
          "shell.execute_reply": "2022-02-03T15:45:16.272140Z"
        },
        "trusted": true,
        "id": "5ieO5BQGUGXV"
      },
      "execution_count": null,
      "outputs": []
    },
    {
      "cell_type": "markdown",
      "source": [
        "### The worst predictions look pretty surprise. Let's look in more details of the last one movieID 79132, the movie was rated by 33 users, user \"136170\" rated 0.5, our SVDpp algorithm predicts 4,1."
      ],
      "metadata": {
        "id": "R8MtYLaZUGXW"
      }
    },
    {
      "cell_type": "code",
      "source": [
        "from surprise.model_selection import GridSearchCV\n",
        "\n",
        "param_grid = {'n_epochs': [5, 10], 'lr_all': [0.002, 0.005],\n",
        "              'reg_all': [0.4, 0.6]}\n",
        "gs = GridSearchCV(algo, param_grid, measures=['rmse', 'mae'], cv=3)\n",
        "\n",
        "gs.fit(data)\n",
        "\n",
        "# best RMSE score\n",
        "print(gs.best_score['rmse'])\n",
        "\n",
        "# combination of parameters that gave the best RMSE score\n",
        "print(gs.best_params['rmse'])"
      ],
      "metadata": {
        "execution": {
          "iopub.status.busy": "2022-02-03T15:52:21.514688Z",
          "iopub.execute_input": "2022-02-03T15:52:21.515027Z",
          "iopub.status.idle": "2022-02-03T15:52:47.951112Z",
          "shell.execute_reply.started": "2022-02-03T15:52:21.514993Z",
          "shell.execute_reply": "2022-02-03T15:52:47.949980Z"
        },
        "trusted": true,
        "id": "13Ro_B6bUGXW"
      },
      "execution_count": null,
      "outputs": []
    },
    {
      "cell_type": "markdown",
      "source": [
        "# Submission Code"
      ],
      "metadata": {
        "id": "7BL9qmSydg13"
      }
    },
    {
      "cell_type": "code",
      "source": [
        "l=[]\n",
        "for index, row in test_df.iterrows():\n",
        "    l+=[svdpp.predict(row['userId'], row['movieId']).est]"
      ],
      "metadata": {
        "execution": {
          "iopub.status.busy": "2022-01-27T16:59:50.72783Z",
          "iopub.execute_input": "2022-01-27T16:59:50.72807Z",
          "iopub.status.idle": "2022-01-27T17:06:28.378393Z",
          "shell.execute_reply.started": "2022-01-27T16:59:50.728041Z",
          "shell.execute_reply": "2022-01-27T17:06:28.377384Z"
        },
        "trusted": true,
        "id": "8VteiwFRUGXb"
      },
      "execution_count": null,
      "outputs": []
    },
    {
      "cell_type": "code",
      "source": [
        "sub=pd.read_csv(\"/kaggle/input/edsa-movie-recommendation-wilderness/sample_submission.csv\")"
      ],
      "metadata": {
        "execution": {
          "iopub.status.busy": "2022-01-27T17:18:48.251166Z",
          "iopub.execute_input": "2022-01-27T17:18:48.25148Z",
          "iopub.status.idle": "2022-01-27T17:18:59.580706Z",
          "shell.execute_reply.started": "2022-01-27T17:18:48.251446Z",
          "shell.execute_reply": "2022-01-27T17:18:59.579732Z"
        },
        "trusted": true,
        "id": "CtPnxAupUGXe"
      },
      "execution_count": null,
      "outputs": []
    },
    {
      "cell_type": "code",
      "source": [
        "sub['rating']=l"
      ],
      "metadata": {
        "execution": {
          "iopub.status.busy": "2022-01-27T17:18:59.582343Z",
          "iopub.execute_input": "2022-01-27T17:18:59.582611Z",
          "iopub.status.idle": "2022-01-27T17:19:01.220908Z",
          "shell.execute_reply.started": "2022-01-27T17:18:59.58258Z",
          "shell.execute_reply": "2022-01-27T17:19:01.220054Z"
        },
        "trusted": true,
        "id": "lbyObGTgUGXf"
      },
      "execution_count": null,
      "outputs": []
    },
    {
      "cell_type": "code",
      "source": [
        "sub.to_csv(\"submission.csv\",index=False)"
      ],
      "metadata": {
        "execution": {
          "iopub.status.busy": "2022-01-27T17:19:03.704728Z",
          "iopub.execute_input": "2022-01-27T17:19:03.70495Z",
          "iopub.status.idle": "2022-01-27T17:19:22.966058Z",
          "shell.execute_reply.started": "2022-01-27T17:19:03.704926Z",
          "shell.execute_reply": "2022-01-27T17:19:22.965416Z"
        },
        "trusted": true,
        "id": "0w7RPvAlUGXh"
      },
      "execution_count": null,
      "outputs": []
    }
  ]
}