{
 "cells": [
  {
   "cell_type": "code",
   "execution_count": 2,
   "id": "b249b1d9",
   "metadata": {},
   "outputs": [
    {
     "name": "stdout",
     "output_type": "stream",
     "text": [
      "Requirement already satisfied: comet_ml in c:\\users\\cebisiles\\anaconda3\\lib\\site-packages (3.23.1)\n",
      "Requirement already satisfied: websocket-client>=0.55.0 in c:\\users\\cebisiles\\anaconda3\\lib\\site-packages (from comet_ml) (1.2.3)\n",
      "Requirement already satisfied: wurlitzer>=1.0.2 in c:\\users\\cebisiles\\anaconda3\\lib\\site-packages (from comet_ml) (3.0.2)\n",
      "Requirement already satisfied: requests>=2.18.4 in c:\\users\\cebisiles\\anaconda3\\lib\\site-packages (from comet_ml) (2.25.1)\n",
      "Requirement already satisfied: nvidia-ml-py3>=7.352.0 in c:\\users\\cebisiles\\anaconda3\\lib\\site-packages (from comet_ml) (7.352.0)\n",
      "Requirement already satisfied: dulwich>=0.20.6 in c:\\users\\cebisiles\\anaconda3\\lib\\site-packages (from comet_ml) (0.20.26)\n",
      "Requirement already satisfied: everett[ini]>=1.0.1 in c:\\users\\cebisiles\\anaconda3\\lib\\site-packages (from comet_ml) (2.0.1)\n",
      "Requirement already satisfied: wrapt>=1.11.2 in c:\\users\\cebisiles\\anaconda3\\lib\\site-packages (from comet_ml) (1.12.1)\n",
      "Requirement already satisfied: semantic-version>=2.8.0 in c:\\users\\cebisiles\\anaconda3\\lib\\site-packages (from comet_ml) (2.8.5)\n",
      "Requirement already satisfied: requests-toolbelt>=0.8.0 in c:\\users\\cebisiles\\anaconda3\\lib\\site-packages (from comet_ml) (0.9.1)\n",
      "Requirement already satisfied: six in c:\\users\\cebisiles\\anaconda3\\lib\\site-packages (from comet_ml) (1.15.0)\n",
      "Requirement already satisfied: jsonschema!=3.1.0,>=2.6.0 in c:\\users\\cebisiles\\anaconda3\\lib\\site-packages (from comet_ml) (3.2.0)\n",
      "Requirement already satisfied: urllib3>=1.24.1 in c:\\users\\cebisiles\\anaconda3\\lib\\site-packages (from dulwich>=0.20.6->comet_ml) (1.26.4)\n",
      "Requirement already satisfied: certifi in c:\\users\\cebisiles\\anaconda3\\lib\\site-packages (from dulwich>=0.20.6->comet_ml) (2020.12.5)\n",
      "Requirement already satisfied: configobj in c:\\users\\cebisiles\\anaconda3\\lib\\site-packages (from everett[ini]>=1.0.1->comet_ml) (5.0.6)\n",
      "Requirement already satisfied: setuptools in c:\\users\\cebisiles\\anaconda3\\lib\\site-packages (from jsonschema!=3.1.0,>=2.6.0->comet_ml) (52.0.0.post20210125)\n",
      "Requirement already satisfied: pyrsistent>=0.14.0 in c:\\users\\cebisiles\\anaconda3\\lib\\site-packages (from jsonschema!=3.1.0,>=2.6.0->comet_ml) (0.17.3)\n",
      "Requirement already satisfied: attrs>=17.4.0 in c:\\users\\cebisiles\\anaconda3\\lib\\site-packages (from jsonschema!=3.1.0,>=2.6.0->comet_ml) (20.3.0)\n",
      "Requirement already satisfied: idna<3,>=2.5 in c:\\users\\cebisiles\\anaconda3\\lib\\site-packages (from requests>=2.18.4->comet_ml) (2.10)\n",
      "Requirement already satisfied: chardet<5,>=3.0.2 in c:\\users\\cebisiles\\anaconda3\\lib\\site-packages (from requests>=2.18.4->comet_ml) (4.0.0)\n"
     ]
    }
   ],
   "source": [
    "!pip install comet_ml"
   ]
  },
  {
   "cell_type": "code",
   "execution_count": 3,
   "id": "fe9c7165",
   "metadata": {},
   "outputs": [],
   "source": [
    "# import comet_ml at the top of your file\n",
    "from comet_ml import Experiment"
   ]
  },
  {
   "cell_type": "code",
   "execution_count": null,
   "id": "31ad5a15",
   "metadata": {},
   "outputs": [],
   "source": [
    "# Create an experiment with your api key\n",
    "experiment = Experiment(\n",
    "    api_key=\"qPSB4ail2BLvJOkpLaqwE6FSe\",\n",
    "    project_name=\"unsupervised-learning\",\n",
    "    workspace=\"cebisiles\",\n",
    ")"
   ]
  },
  {
   "cell_type": "code",
   "execution_count": null,
   "id": "03205c9c",
   "metadata": {
    "_cell_guid": "b1076dfc-b9ad-4769-8c92-a6c4dae69d19",
    "_uuid": "8f2839f25d086af736a60e9eeb907d3b93b6e0e5",
    "execution": {
     "iopub.execute_input": "2022-01-27T17:50:16.714402Z",
     "iopub.status.busy": "2022-01-27T17:50:16.713104Z",
     "iopub.status.idle": "2022-01-27T17:50:16.733780Z",
     "shell.execute_reply": "2022-01-27T17:50:16.734383Z",
     "shell.execute_reply.started": "2022-01-27T16:58:20.313005Z"
    },
    "papermill": {
     "duration": 0.04444,
     "end_time": "2022-01-27T17:50:16.734746",
     "exception": false,
     "start_time": "2022-01-27T17:50:16.690306",
     "status": "completed"
    },
    "tags": []
   },
   "outputs": [],
   "source": [
    "# This Python 3 environment comes with many helpful analytics libraries installed\n",
    "# It is defined by the kaggle/python Docker image: https://github.com/kaggle/docker-python\n",
    "# For example, here's several helpful packages to load\n",
    "\n",
    "import numpy as np # linear algebra\n",
    "import pandas as pd # data processing, CSV file I/O (e.g. pd.read_csv)\n",
    "\n",
    "# Input data files are available in the read-only \"../input/\" directory\n",
    "# For example, running this (by clicking run or pressing Shift+Enter) will list all files under the input directory\n",
    "\n",
    "import os\n",
    "for dirname, _, filenames in os.walk('/kaggle/input'):\n",
    "    for filename in filenames:\n",
    "        print(os.path.join(dirname, filename))\n",
    "\n",
    "# You can write up to 20GB to the current directory (/kaggle/working/) that gets preserved as output when you create a version using \"Save & Run All\" \n",
    "# You can also write temporary files to /kaggle/temp/, but they won't be saved outside of the current session"
   ]
  },
  {
   "cell_type": "code",
   "execution_count": 2,
   "id": "3286ae34",
   "metadata": {
    "execution": {
     "iopub.execute_input": "2022-01-27T17:50:16.773558Z",
     "iopub.status.busy": "2022-01-27T17:50:16.772736Z",
     "iopub.status.idle": "2022-01-27T17:50:17.903881Z",
     "shell.execute_reply": "2022-01-27T17:50:17.903261Z",
     "shell.execute_reply.started": "2022-01-27T16:58:20.325090Z"
    },
    "papermill": {
     "duration": 1.152606,
     "end_time": "2022-01-27T17:50:17.904026",
     "exception": false,
     "start_time": "2022-01-27T17:50:16.751420",
     "status": "completed"
    },
    "tags": []
   },
   "outputs": [],
   "source": [
    "import pandas as pd\n",
    "import numpy as np\n",
    "import os\n",
    "import seaborn as sns\n",
    "import matplotlib.pyplot as plt"
   ]
  },
  {
   "cell_type": "code",
   "execution_count": 3,
   "id": "47804710",
   "metadata": {
    "execution": {
     "iopub.execute_input": "2022-01-27T17:50:17.939760Z",
     "iopub.status.busy": "2022-01-27T17:50:17.939067Z",
     "iopub.status.idle": "2022-01-27T17:50:17.943105Z",
     "shell.execute_reply": "2022-01-27T17:50:17.943621Z",
     "shell.execute_reply.started": "2022-01-27T16:58:20.338472Z"
    },
    "papermill": {
     "duration": 0.023877,
     "end_time": "2022-01-27T17:50:17.943945",
     "exception": false,
     "start_time": "2022-01-27T17:50:17.920068",
     "status": "completed"
    },
    "tags": []
   },
   "outputs": [],
   "source": [
    "def load(s):\n",
    "    l=[]\n",
    "    for i in s:\n",
    "        l+=[pd.read_csv(\"/kaggle/input/edsa-movie-recommendation-wilderness/\"+i+\".csv\")]\n",
    "    return l"
   ]
  },
  {
   "cell_type": "code",
   "execution_count": 4,
   "id": "7120a091",
   "metadata": {
    "execution": {
     "iopub.execute_input": "2022-01-27T17:50:17.980309Z",
     "iopub.status.busy": "2022-01-27T17:50:17.979590Z",
     "iopub.status.idle": "2022-01-27T17:50:17.983926Z",
     "shell.execute_reply": "2022-01-27T17:50:17.984493Z",
     "shell.execute_reply.started": "2022-01-27T16:58:20.351194Z"
    },
    "papermill": {
     "duration": 0.023923,
     "end_time": "2022-01-27T17:50:17.984688",
     "exception": false,
     "start_time": "2022-01-27T17:50:17.960765",
     "status": "completed"
    },
    "tags": []
   },
   "outputs": [],
   "source": [
    "def merge_movie_id(s):\n",
    "    p=s[0]\n",
    "    d=s[1:]\n",
    "    for i in d:\n",
    "        p=p.merge(i,how='left',on='movieId')\n",
    "    return p"
   ]
  },
  {
   "cell_type": "code",
   "execution_count": 5,
   "id": "c38de003",
   "metadata": {
    "execution": {
     "iopub.execute_input": "2022-01-27T17:50:18.025002Z",
     "iopub.status.busy": "2022-01-27T17:50:18.024310Z",
     "iopub.status.idle": "2022-01-27T17:51:05.410519Z",
     "shell.execute_reply": "2022-01-27T17:51:05.411443Z",
     "shell.execute_reply.started": "2022-01-27T16:58:20.362023Z"
    },
    "papermill": {
     "duration": 47.40956,
     "end_time": "2022-01-27T17:51:05.411945",
     "exception": false,
     "start_time": "2022-01-27T17:50:18.002385",
     "status": "completed"
    },
    "tags": []
   },
   "outputs": [],
   "source": [
    "train_df=merge_movie_id(load(['train','movies','links','imdb_data','genome_tags','tags','genome_scores'])[:4])\n",
    "test_df=merge_movie_id(load(['test','movies','links','imdb_data','genome_tags','tags','genome_scores'])[:4])"
   ]
  },
  {
   "cell_type": "code",
   "execution_count": 6,
   "id": "7433643b",
   "metadata": {
    "execution": {
     "iopub.execute_input": "2022-01-27T17:51:05.452410Z",
     "iopub.status.busy": "2022-01-27T17:51:05.451615Z",
     "iopub.status.idle": "2022-01-27T17:51:09.282796Z",
     "shell.execute_reply": "2022-01-27T17:51:09.282152Z",
     "shell.execute_reply.started": "2022-01-27T16:58:52.153269Z"
    },
    "papermill": {
     "duration": 3.85134,
     "end_time": "2022-01-27T17:51:09.282960",
     "exception": false,
     "start_time": "2022-01-27T17:51:05.431620",
     "status": "completed"
    },
    "tags": []
   },
   "outputs": [],
   "source": [
    "df=train_df.sample(100000)"
   ]
  },
  {
   "cell_type": "code",
   "execution_count": 7,
   "id": "1de62cd0",
   "metadata": {
    "execution": {
     "iopub.execute_input": "2022-01-27T17:51:09.322757Z",
     "iopub.status.busy": "2022-01-27T17:51:09.322000Z",
     "iopub.status.idle": "2022-01-27T17:51:09.604448Z",
     "shell.execute_reply": "2022-01-27T17:51:09.603814Z",
     "shell.execute_reply.started": "2022-01-27T16:58:55.247692Z"
    },
    "papermill": {
     "duration": 0.305589,
     "end_time": "2022-01-27T17:51:09.604595",
     "exception": false,
     "start_time": "2022-01-27T17:51:09.299006",
     "status": "completed"
    },
    "tags": []
   },
   "outputs": [],
   "source": [
    "from surprise import Reader, Dataset, SVD, NMF, SVDpp\n",
    "from surprise.model_selection.validation import cross_validate\n",
    "reader = Reader()\n",
    "data = Dataset.load_from_df(df[['userId', 'movieId', 'rating']], reader)\n",
    "svd = SVD()\n",
    "svdpp = SVDpp()\n",
    "nmf = NMF()"
   ]
  },
  {
   "cell_type": "code",
   "execution_count": 8,
   "id": "024b5cc4",
   "metadata": {
    "execution": {
     "iopub.execute_input": "2022-01-27T17:51:09.661559Z",
     "iopub.status.busy": "2022-01-27T17:51:09.651133Z",
     "iopub.status.idle": "2022-01-27T17:52:07.315192Z",
     "shell.execute_reply": "2022-01-27T17:52:07.315722Z",
     "shell.execute_reply.started": "2022-01-27T16:58:55.419314Z"
    },
    "papermill": {
     "duration": 57.69532,
     "end_time": "2022-01-27T17:52:07.315922",
     "exception": false,
     "start_time": "2022-01-27T17:51:09.620602",
     "status": "completed"
    },
    "tags": []
   },
   "outputs": [
    {
     "data": {
      "text/plain": [
       "<surprise.prediction_algorithms.matrix_factorization.NMF at 0x7f25991a1b10>"
      ]
     },
     "execution_count": 8,
     "metadata": {},
     "output_type": "execute_result"
    }
   ],
   "source": [
    "trainset = data.build_full_trainset()\n",
    "svd.fit(trainset)\n",
    "svdpp.fit(trainset)\n",
    "nmf.fit(trainset)"
   ]
  },
  {
   "cell_type": "code",
   "execution_count": 9,
   "id": "f161d18c",
   "metadata": {
    "execution": {
     "iopub.execute_input": "2022-01-27T17:52:07.357141Z",
     "iopub.status.busy": "2022-01-27T17:52:07.356438Z",
     "iopub.status.idle": "2022-01-27T17:59:01.622096Z",
     "shell.execute_reply": "2022-01-27T17:59:01.620631Z",
     "shell.execute_reply.started": "2022-01-27T16:59:50.728041Z"
    },
    "papermill": {
     "duration": 414.288955,
     "end_time": "2022-01-27T17:59:01.622604",
     "exception": false,
     "start_time": "2022-01-27T17:52:07.333649",
     "status": "completed"
    },
    "tags": []
   },
   "outputs": [],
   "source": [
    "l=[]\n",
    "for index, row in test_df.iterrows():\n",
    "    l+=[svdpp.predict(row['userId'], row['movieId']).est]"
   ]
  },
  {
   "cell_type": "code",
   "execution_count": 10,
   "id": "a888db8e",
   "metadata": {
    "execution": {
     "iopub.execute_input": "2022-01-27T17:59:01.686577Z",
     "iopub.status.busy": "2022-01-27T17:59:01.685540Z",
     "iopub.status.idle": "2022-01-27T18:06:03.091186Z",
     "shell.execute_reply": "2022-01-27T18:06:03.090462Z",
     "shell.execute_reply.started": "2022-01-27T17:06:28.380089Z"
    },
    "papermill": {
     "duration": 421.434027,
     "end_time": "2022-01-27T18:06:03.091392",
     "exception": false,
     "start_time": "2022-01-27T17:59:01.657365",
     "status": "completed"
    },
    "tags": []
   },
   "outputs": [],
   "source": [
    "k=[]\n",
    "for index, row in test_df.iterrows():\n",
    "    k+=[svdpp.predict(row['userId'], row['movieId']).est]"
   ]
  },
  {
   "cell_type": "code",
   "execution_count": 11,
   "id": "7feeec6f",
   "metadata": {
    "execution": {
     "iopub.execute_input": "2022-01-27T18:06:03.128320Z",
     "iopub.status.busy": "2022-01-27T18:06:03.127554Z",
     "iopub.status.idle": "2022-01-27T18:11:51.169632Z",
     "shell.execute_reply": "2022-01-27T18:11:51.168965Z",
     "shell.execute_reply.started": "2022-01-27T17:13:13.522393Z"
    },
    "papermill": {
     "duration": 348.061627,
     "end_time": "2022-01-27T18:11:51.169826",
     "exception": false,
     "start_time": "2022-01-27T18:06:03.108199",
     "status": "completed"
    },
    "tags": []
   },
   "outputs": [],
   "source": [
    "m=[]\n",
    "for index, row in test_df.iterrows():\n",
    "    m+=[nmf.predict(row['userId'], row['movieId']).est]"
   ]
  },
  {
   "cell_type": "code",
   "execution_count": 12,
   "id": "91d2e2d0",
   "metadata": {
    "execution": {
     "iopub.execute_input": "2022-01-27T18:11:51.210326Z",
     "iopub.status.busy": "2022-01-27T18:11:51.209425Z",
     "iopub.status.idle": "2022-01-27T18:12:03.727370Z",
     "shell.execute_reply": "2022-01-27T18:12:03.726793Z",
     "shell.execute_reply.started": "2022-01-27T17:18:48.251446Z"
    },
    "papermill": {
     "duration": 12.540214,
     "end_time": "2022-01-27T18:12:03.727526",
     "exception": false,
     "start_time": "2022-01-27T18:11:51.187312",
     "status": "completed"
    },
    "tags": []
   },
   "outputs": [],
   "source": [
    "sub=pd.read_csv(\"/kaggle/input/edsa-movie-recommendation-wilderness/sample_submission.csv\")\n",
    "sub2=pd.read_csv(\"/kaggle/input/edsa-movie-recommendation-wilderness/sample_submission.csv\")\n",
    "sub3=pd.read_csv(\"/kaggle/input/edsa-movie-recommendation-wilderness/sample_submission.csv\")"
   ]
  },
  {
   "cell_type": "code",
   "execution_count": 13,
   "id": "803fb18c",
   "metadata": {
    "execution": {
     "iopub.execute_input": "2022-01-27T18:12:03.806160Z",
     "iopub.status.busy": "2022-01-27T18:12:03.805416Z",
     "iopub.status.idle": "2022-01-27T18:12:05.075476Z",
     "shell.execute_reply": "2022-01-27T18:12:05.074848Z",
     "shell.execute_reply.started": "2022-01-27T17:18:59.582580Z"
    },
    "papermill": {
     "duration": 1.331885,
     "end_time": "2022-01-27T18:12:05.075645",
     "exception": false,
     "start_time": "2022-01-27T18:12:03.743760",
     "status": "completed"
    },
    "tags": []
   },
   "outputs": [],
   "source": [
    "sub['rating']=l"
   ]
  },
  {
   "cell_type": "code",
   "execution_count": 14,
   "id": "544f8d2f",
   "metadata": {
    "execution": {
     "iopub.execute_input": "2022-01-27T18:12:05.169796Z",
     "iopub.status.busy": "2022-01-27T18:12:05.169025Z",
     "iopub.status.idle": "2022-01-27T18:12:06.410232Z",
     "shell.execute_reply": "2022-01-27T18:12:06.410853Z",
     "shell.execute_reply.started": "2022-01-27T17:19:01.222651Z"
    },
    "papermill": {
     "duration": 1.319076,
     "end_time": "2022-01-27T18:12:06.411044",
     "exception": false,
     "start_time": "2022-01-27T18:12:05.091968",
     "status": "completed"
    },
    "tags": []
   },
   "outputs": [],
   "source": [
    "sub2['rating']=k"
   ]
  },
  {
   "cell_type": "code",
   "execution_count": 15,
   "id": "e78729d6",
   "metadata": {
    "execution": {
     "iopub.execute_input": "2022-01-27T18:12:06.448064Z",
     "iopub.status.busy": "2022-01-27T18:12:06.447386Z",
     "iopub.status.idle": "2022-01-27T18:12:07.739085Z",
     "shell.execute_reply": "2022-01-27T18:12:07.739694Z",
     "shell.execute_reply.started": "2022-01-27T17:19:02.482715Z"
    },
    "papermill": {
     "duration": 1.311945,
     "end_time": "2022-01-27T18:12:07.739886",
     "exception": false,
     "start_time": "2022-01-27T18:12:06.427941",
     "status": "completed"
    },
    "tags": []
   },
   "outputs": [],
   "source": [
    "sub3['rating']=m"
   ]
  },
  {
   "cell_type": "code",
   "execution_count": 16,
   "id": "b1ffaa4e",
   "metadata": {
    "execution": {
     "iopub.execute_input": "2022-01-27T18:12:07.779081Z",
     "iopub.status.busy": "2022-01-27T18:12:07.778059Z",
     "iopub.status.idle": "2022-01-27T18:12:27.842235Z",
     "shell.execute_reply": "2022-01-27T18:12:27.841161Z",
     "shell.execute_reply.started": "2022-01-27T17:19:03.704926Z"
    },
    "papermill": {
     "duration": 20.086063,
     "end_time": "2022-01-27T18:12:27.842452",
     "exception": false,
     "start_time": "2022-01-27T18:12:07.756389",
     "status": "completed"
    },
    "tags": []
   },
   "outputs": [],
   "source": [
    "sub.to_csv(\"submission.csv\",index=False)"
   ]
  },
  {
   "cell_type": "code",
   "execution_count": 17,
   "id": "40b3a652",
   "metadata": {
    "execution": {
     "iopub.execute_input": "2022-01-27T18:12:27.882845Z",
     "iopub.status.busy": "2022-01-27T18:12:27.881837Z",
     "iopub.status.idle": "2022-01-27T18:12:47.057564Z",
     "shell.execute_reply": "2022-01-27T18:12:47.056905Z",
     "shell.execute_reply.started": "2022-01-27T17:19:22.967949Z"
    },
    "papermill": {
     "duration": 19.198369,
     "end_time": "2022-01-27T18:12:47.057721",
     "exception": false,
     "start_time": "2022-01-27T18:12:27.859352",
     "status": "completed"
    },
    "tags": []
   },
   "outputs": [],
   "source": [
    "sub2.to_csv(\"submission2.csv\",index=False)"
   ]
  },
  {
   "cell_type": "code",
   "execution_count": 18,
   "id": "34b868b5",
   "metadata": {
    "execution": {
     "iopub.execute_input": "2022-01-27T18:12:47.099419Z",
     "iopub.status.busy": "2022-01-27T18:12:47.098417Z",
     "iopub.status.idle": "2022-01-27T18:13:04.842450Z",
     "shell.execute_reply": "2022-01-27T18:13:04.841450Z",
     "shell.execute_reply.started": "2022-01-27T17:19:41.844182Z"
    },
    "papermill": {
     "duration": 17.767241,
     "end_time": "2022-01-27T18:13:04.842614",
     "exception": false,
     "start_time": "2022-01-27T18:12:47.075373",
     "status": "completed"
    },
    "tags": []
   },
   "outputs": [],
   "source": [
    "sub3.to_csv(\"submission3.csv\",index=False)"
   ]
  }
 ],
 "metadata": {
  "kernelspec": {
   "display_name": "Python 3",
   "language": "python",
   "name": "python3"
  },
  "language_info": {
   "codemirror_mode": {
    "name": "ipython",
    "version": 3
   },
   "file_extension": ".py",
   "mimetype": "text/x-python",
   "name": "python",
   "nbconvert_exporter": "python",
   "pygments_lexer": "ipython3",
   "version": "3.8.8"
  },
  "papermill": {
   "default_parameters": {},
   "duration": 1382.427248,
   "end_time": "2022-01-27T18:13:07.576133",
   "environment_variables": {},
   "exception": null,
   "input_path": "__notebook__.ipynb",
   "output_path": "__notebook__.ipynb",
   "parameters": {},
   "start_time": "2022-01-27T17:50:05.148885",
   "version": "2.3.3"
  }
 },
 "nbformat": 4,
 "nbformat_minor": 5
}
